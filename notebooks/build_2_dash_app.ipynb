{
 "cells": [
  {
   "cell_type": "code",
   "execution_count": 51,
   "metadata": {},
   "outputs": [],
   "source": [
    "# import libraries\n",
    "import numpy as np\n",
    "import pandas as pd\n",
    "import plotly.express as px\n",
    "import plotly.graph_objects as go\n",
    "from sklearn.model_selection import train_test_split\n",
    "from sklearn.ensemble import RandomForestClassifier\n",
    "from sklearn.impute import SimpleImputer\n",
    "from sklearn.pipeline import make_pipeline\n",
    "from sklearn.tree import DecisionTreeRegressor\n",
    "from sklearn.tree import export_graphviz"
   ]
  },
  {
   "cell_type": "code",
   "execution_count": 64,
   "metadata": {},
   "outputs": [],
   "source": [
    "df = pd.read_csv('/home/andronik/uk-data-dash-app/data/uk_data_v7.csv')"
   ]
  },
  {
   "cell_type": "code",
   "execution_count": 65,
   "metadata": {
    "scrolled": false
   },
   "outputs": [
    {
     "data": {
      "text/html": [
       "<div>\n",
       "<style scoped>\n",
       "    .dataframe tbody tr th:only-of-type {\n",
       "        vertical-align: middle;\n",
       "    }\n",
       "\n",
       "    .dataframe tbody tr th {\n",
       "        vertical-align: top;\n",
       "    }\n",
       "\n",
       "    .dataframe thead th {\n",
       "        text-align: right;\n",
       "    }\n",
       "</style>\n",
       "<table border=\"1\" class=\"dataframe\">\n",
       "  <thead>\n",
       "    <tr style=\"text-align: right;\">\n",
       "      <th></th>\n",
       "      <th>Year</th>\n",
       "      <th>Population_of_England_millions</th>\n",
       "      <th>Total_Arable_and_Sown_Acreage</th>\n",
       "      <th>Wheat_Bushels_per_Acre</th>\n",
       "      <th>Rye_Bushels_per_Acre</th>\n",
       "      <th>Barley_Bushels_per_Acre</th>\n",
       "      <th>Oats_Bushels_per_Acre</th>\n",
       "      <th>Pulses_Bushels_per_Acre</th>\n",
       "      <th>Wheat_Million_Bushels</th>\n",
       "      <th>Rye_Million_Bushels</th>\n",
       "      <th>...</th>\n",
       "      <th>Net_Emigration_England_000s</th>\n",
       "      <th>Sacks_of_Wool_Thousands</th>\n",
       "      <th>Total_doth_equivalent</th>\n",
       "      <th>Decline_in_export_volume</th>\n",
       "      <th>English_export_volumes</th>\n",
       "      <th>Consumer_price_inflation</th>\n",
       "      <th>Filtered_Log_of_Real_GDP_Hodrick_Prescott</th>\n",
       "      <th>Average_Weekly_Earning_UK</th>\n",
       "      <th>Average_Weekly_Work_Hours</th>\n",
       "      <th>Trade_Volumes_in_UK</th>\n",
       "    </tr>\n",
       "  </thead>\n",
       "  <tbody>\n",
       "    <tr>\n",
       "      <td>0</td>\n",
       "      <td>1270</td>\n",
       "      <td>4.364903</td>\n",
       "      <td>12.521372</td>\n",
       "      <td>7.453349</td>\n",
       "      <td>9.200467</td>\n",
       "      <td>11.438873</td>\n",
       "      <td>11.191148</td>\n",
       "      <td>1.828758</td>\n",
       "      <td>16.442739</td>\n",
       "      <td>7.110387</td>\n",
       "      <td>...</td>\n",
       "      <td>NaN</td>\n",
       "      <td>NaN</td>\n",
       "      <td>NaN</td>\n",
       "      <td>NaN</td>\n",
       "      <td>NaN</td>\n",
       "      <td>-2.09</td>\n",
       "      <td>-1.08</td>\n",
       "      <td>0.029</td>\n",
       "      <td>45.04</td>\n",
       "      <td>NaN</td>\n",
       "    </tr>\n",
       "    <tr>\n",
       "      <td>1</td>\n",
       "      <td>1271</td>\n",
       "      <td>4.371751</td>\n",
       "      <td>12.525191</td>\n",
       "      <td>6.728061</td>\n",
       "      <td>11.504579</td>\n",
       "      <td>13.016335</td>\n",
       "      <td>10.514148</td>\n",
       "      <td>1.578589</td>\n",
       "      <td>14.903160</td>\n",
       "      <td>8.864022</td>\n",
       "      <td>...</td>\n",
       "      <td>NaN</td>\n",
       "      <td>NaN</td>\n",
       "      <td>NaN</td>\n",
       "      <td>NaN</td>\n",
       "      <td>NaN</td>\n",
       "      <td>26.09</td>\n",
       "      <td>-1.90</td>\n",
       "      <td>0.030</td>\n",
       "      <td>45.01</td>\n",
       "      <td>NaN</td>\n",
       "    </tr>\n",
       "    <tr>\n",
       "      <td>2</td>\n",
       "      <td>1272</td>\n",
       "      <td>4.378609</td>\n",
       "      <td>12.529016</td>\n",
       "      <td>9.779587</td>\n",
       "      <td>11.533904</td>\n",
       "      <td>12.211065</td>\n",
       "      <td>9.009052</td>\n",
       "      <td>0.678903</td>\n",
       "      <td>21.750552</td>\n",
       "      <td>8.859456</td>\n",
       "      <td>...</td>\n",
       "      <td>NaN</td>\n",
       "      <td>NaN</td>\n",
       "      <td>NaN</td>\n",
       "      <td>NaN</td>\n",
       "      <td>NaN</td>\n",
       "      <td>5.06</td>\n",
       "      <td>2.02</td>\n",
       "      <td>0.025</td>\n",
       "      <td>44.99</td>\n",
       "      <td>NaN</td>\n",
       "    </tr>\n",
       "    <tr>\n",
       "      <td>3</td>\n",
       "      <td>1273</td>\n",
       "      <td>4.385478</td>\n",
       "      <td>12.532846</td>\n",
       "      <td>6.895819</td>\n",
       "      <td>6.192996</td>\n",
       "      <td>11.499594</td>\n",
       "      <td>10.095821</td>\n",
       "      <td>1.068811</td>\n",
       "      <td>15.399003</td>\n",
       "      <td>4.742375</td>\n",
       "      <td>...</td>\n",
       "      <td>NaN</td>\n",
       "      <td>NaN</td>\n",
       "      <td>NaN</td>\n",
       "      <td>NaN</td>\n",
       "      <td>NaN</td>\n",
       "      <td>-17.02</td>\n",
       "      <td>-3.55</td>\n",
       "      <td>0.029</td>\n",
       "      <td>44.96</td>\n",
       "      <td>NaN</td>\n",
       "    </tr>\n",
       "    <tr>\n",
       "      <td>4</td>\n",
       "      <td>1274</td>\n",
       "      <td>4.392357</td>\n",
       "      <td>12.536683</td>\n",
       "      <td>6.325744</td>\n",
       "      <td>9.845428</td>\n",
       "      <td>10.483730</td>\n",
       "      <td>10.042227</td>\n",
       "      <td>3.888762</td>\n",
       "      <td>14.183093</td>\n",
       "      <td>7.516020</td>\n",
       "      <td>...</td>\n",
       "      <td>NaN</td>\n",
       "      <td>NaN</td>\n",
       "      <td>NaN</td>\n",
       "      <td>NaN</td>\n",
       "      <td>NaN</td>\n",
       "      <td>13.59</td>\n",
       "      <td>-3.59</td>\n",
       "      <td>0.030</td>\n",
       "      <td>44.93</td>\n",
       "      <td>NaN</td>\n",
       "    </tr>\n",
       "  </tbody>\n",
       "</table>\n",
       "<p>5 rows × 87 columns</p>\n",
       "</div>"
      ],
      "text/plain": [
       "   Year  Population_of_England_millions  Total_Arable_and_Sown_Acreage  \\\n",
       "0  1270                        4.364903                      12.521372   \n",
       "1  1271                        4.371751                      12.525191   \n",
       "2  1272                        4.378609                      12.529016   \n",
       "3  1273                        4.385478                      12.532846   \n",
       "4  1274                        4.392357                      12.536683   \n",
       "\n",
       "   Wheat_Bushels_per_Acre  Rye_Bushels_per_Acre  Barley_Bushels_per_Acre  \\\n",
       "0                7.453349              9.200467                11.438873   \n",
       "1                6.728061             11.504579                13.016335   \n",
       "2                9.779587             11.533904                12.211065   \n",
       "3                6.895819              6.192996                11.499594   \n",
       "4                6.325744              9.845428                10.483730   \n",
       "\n",
       "   Oats_Bushels_per_Acre  Pulses_Bushels_per_Acre  Wheat_Million_Bushels  \\\n",
       "0              11.191148                 1.828758              16.442739   \n",
       "1              10.514148                 1.578589              14.903160   \n",
       "2               9.009052                 0.678903              21.750552   \n",
       "3              10.095821                 1.068811              15.399003   \n",
       "4              10.042227                 3.888762              14.183093   \n",
       "\n",
       "   Rye_Million_Bushels  ...  Net_Emigration_England_000s  \\\n",
       "0             7.110387  ...                          NaN   \n",
       "1             8.864022  ...                          NaN   \n",
       "2             8.859456  ...                          NaN   \n",
       "3             4.742375  ...                          NaN   \n",
       "4             7.516020  ...                          NaN   \n",
       "\n",
       "   Sacks_of_Wool_Thousands  Total_doth_equivalent  Decline_in_export_volume  \\\n",
       "0                      NaN                    NaN                       NaN   \n",
       "1                      NaN                    NaN                       NaN   \n",
       "2                      NaN                    NaN                       NaN   \n",
       "3                      NaN                    NaN                       NaN   \n",
       "4                      NaN                    NaN                       NaN   \n",
       "\n",
       "   English_export_volumes  Consumer_price_inflation  \\\n",
       "0                     NaN                     -2.09   \n",
       "1                     NaN                     26.09   \n",
       "2                     NaN                      5.06   \n",
       "3                     NaN                    -17.02   \n",
       "4                     NaN                     13.59   \n",
       "\n",
       "   Filtered_Log_of_Real_GDP_Hodrick_Prescott  Average_Weekly_Earning_UK  \\\n",
       "0                                      -1.08                      0.029   \n",
       "1                                      -1.90                      0.030   \n",
       "2                                       2.02                      0.025   \n",
       "3                                      -3.55                      0.029   \n",
       "4                                      -3.59                      0.030   \n",
       "\n",
       "   Average_Weekly_Work_Hours  Trade_Volumes_in_UK  \n",
       "0                      45.04                  NaN  \n",
       "1                      45.01                  NaN  \n",
       "2                      44.99                  NaN  \n",
       "3                      44.96                  NaN  \n",
       "4                      44.93                  NaN  \n",
       "\n",
       "[5 rows x 87 columns]"
      ]
     },
     "execution_count": 65,
     "metadata": {},
     "output_type": "execute_result"
    }
   ],
   "source": [
    "df.head()"
   ]
  },
  {
   "cell_type": "code",
   "execution_count": 66,
   "metadata": {},
   "outputs": [],
   "source": [
    "# Split train into train & test\n",
    "train, val = train_test_split(df, train_size=0.80, test_size=0.20, random_state=42)\n",
    "\n",
    "# Split train into train & val\n",
    "train, test = train_test_split(train, train_size=0.80, test_size=0.20, random_state=42)"
   ]
  },
  {
   "cell_type": "code",
   "execution_count": 67,
   "metadata": {},
   "outputs": [
    {
     "data": {
      "text/plain": [
       "((384, 87), (121, 87), (96, 87))"
      ]
     },
     "execution_count": 67,
     "metadata": {},
     "output_type": "execute_result"
    }
   ],
   "source": [
    "# shape of train, val and test\n",
    "train.shape, val.shape, test.shape"
   ]
  },
  {
   "cell_type": "code",
   "execution_count": 68,
   "metadata": {},
   "outputs": [],
   "source": [
    "# target and features\n",
    "X = df[['Year', 'Annual_inflation_rate']]\n",
    "y = df[['Real_consumption_earnings_Growth_GB']]"
   ]
  },
  {
   "cell_type": "code",
   "execution_count": 69,
   "metadata": {},
   "outputs": [
    {
     "data": {
      "text/plain": [
       "((601, 2), (601, 1))"
      ]
     },
     "execution_count": 69,
     "metadata": {},
     "output_type": "execute_result"
    }
   ],
   "source": [
    "# X and y shape\n",
    "X.shape, y.shape"
   ]
  },
  {
   "cell_type": "code",
   "execution_count": 70,
   "metadata": {},
   "outputs": [
    {
     "name": "stdout",
     "output_type": "stream",
     "text": [
      "Validation Accuracy 0.8888575718952249\n"
     ]
    }
   ],
   "source": [
    "# pipeline\n",
    "pipeline = make_pipeline(\n",
    "    SimpleImputer(missing_values=np.nan , strategy='median'),\n",
    "    DecisionTreeRegressor(max_depth=8)\n",
    ")\n",
    "\n",
    "# pipeline fit and validtion score\n",
    "pipeline.fit(X, y)\n",
    "print('Validation Accuracy', pipeline.score(X, y))"
   ]
  },
  {
   "cell_type": "code",
   "execution_count": 71,
   "metadata": {},
   "outputs": [
    {
     "data": {
      "text/plain": [
       "['pipeline.joblib']"
      ]
     },
     "execution_count": 71,
     "metadata": {},
     "output_type": "execute_result"
    }
   ],
   "source": [
    "from joblib import dump\n",
    "dump(pipeline, 'pipeline.joblib', compress=True)"
   ]
  }
 ],
 "metadata": {
  "kernelspec": {
   "display_name": "Python 3",
   "language": "python",
   "name": "python3"
  },
  "language_info": {
   "codemirror_mode": {
    "name": "ipython",
    "version": 3
   },
   "file_extension": ".py",
   "mimetype": "text/x-python",
   "name": "python",
   "nbconvert_exporter": "python",
   "pygments_lexer": "ipython3",
   "version": "3.7.4"
  }
 },
 "nbformat": 4,
 "nbformat_minor": 2
}
